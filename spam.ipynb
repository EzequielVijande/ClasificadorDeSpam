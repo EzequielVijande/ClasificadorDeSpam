{
 "cells": [
  {
   "cell_type": "markdown",
   "metadata": {},
   "source": [
    "# Clasificador de spam"
   ]
  },
  {
   "cell_type": "markdown",
   "metadata": {},
   "source": [
    "Este notebook contiene la implementacion en python de un clasificador Bayesiano para corres electronicos.El clasificador distinguie dos categorias, si un correo electronico es 'spam' (contenido indeseado o irrelevante para el usuario) o no."
   ]
  },
  {
   "cell_type": "markdown",
   "metadata": {},
   "source": [
    "## Descarga de base de datos"
   ]
  },
  {
   "cell_type": "code",
   "execution_count": 10,
   "metadata": {},
   "outputs": [
    {
     "name": "stdout",
     "output_type": "stream",
     "text": [
      "--2020-03-14 11:56:17--  https://raw.githubusercontent.com/rn-2019-itba/Clase-2--Hiperparametros-y-Tecnicas-de-Validacion/master/Opcional/data/emails.csv\n",
      "Resolving raw.githubusercontent.com (raw.githubusercontent.com)... 151.101.216.133\n",
      "Connecting to raw.githubusercontent.com (raw.githubusercontent.com)|151.101.216.133|:443... connected.\n",
      "HTTP request sent, awaiting response... 200 OK\n",
      "Length: 8954755 (8,5M) [text/plain]\n",
      "Saving to: ‘emails.csv’\n",
      "\n",
      "emails.csv          100%[===================>]   8,54M   344KB/s    in 26s     \n",
      "\n",
      "2020-03-14 11:56:43 (342 KB/s) - ‘emails.csv’ saved [8954755/8954755]\n",
      "\n"
     ]
    }
   ],
   "source": [
    "! wget 'https://raw.githubusercontent.com/rn-2019-itba/Clase-2--Hiperparametros-y-Tecnicas-de-Validacion/master/Opcional/data/emails.csv'"
   ]
  },
  {
   "cell_type": "markdown",
   "metadata": {},
   "source": [
    "# Visualizacion de los datos"
   ]
  },
  {
   "cell_type": "code",
   "execution_count": 6,
   "metadata": {},
   "outputs": [
    {
     "name": "stdout",
     "output_type": "stream",
     "text": [
      "0       Subject: naturally irresistible your corporate...\n",
      "1       Subject: the stock trading gunslinger  fanny i...\n",
      "2       Subject: unbelievable new homes made easy  im ...\n",
      "3       Subject: 4 color printing special  request add...\n",
      "4       Subject: do not have money , get software cds ...\n",
      "                              ...                        \n",
      "5723    Subject: re : research and development charges...\n",
      "5724    Subject: re : receipts from visit  jim ,  than...\n",
      "5725    Subject: re : enron case study update  wow ! a...\n",
      "5726    Subject: re : interest  david ,  please , call...\n",
      "5727    Subject: news : aurora 5 . 2 update  aurora ve...\n",
      "Name: text, Length: 5728, dtype: object\n",
      "Subject: naturally irresistible your corporate identity  lt is really hard to recollect a company : the  market is full of suqgestions and the information isoverwhelminq ; but a good  catchy logo , stylish statlonery and outstanding website  will make the task much easier .  we do not promise that havinq ordered a iogo your  company will automaticaily become a world ieader : it isguite ciear that  without good products , effective business organization and practicable aim it  will be hotat nowadays market ; but we do promise that your marketing efforts  will become much more effective . here is the list of clear  benefits : creativeness : hand - made , original logos , specially done  to reflect your distinctive company image . convenience : logo and stationery  are provided in all formats ; easy - to - use content management system letsyou  change your website content and even its structure . promptness : you  will see logo drafts within three business days . affordability : your  marketing break - through shouldn ' t make gaps in your budget . 100 % satisfaction  guaranteed : we provide unlimited amount of changes with no extra fees for you to  be surethat you will love the result of this collaboration . have a look at our  portfolio _ _ _ _ _ _ _ _ _ _ _ _ _ _ _ _ _ _ _ _ _ _ _ _ _ _ _ _ _ _ _ _ _ _ _ _ _ _ _ _ _ _ _ _ _ _ _ _ _ _ _ _ not interested . . . _ _ _ _ _ _ _ _ _ _ _ _ _ _ _ _ _ _ _ _ _ _ _ _ _ _ _ _ _ _ _ _ _ _ _ _ _ _ _ _ _ _ _ _ _ _ _ _ _ _ _ _\n",
      "0       1\n",
      "1       1\n",
      "2       1\n",
      "3       1\n",
      "4       1\n",
      "       ..\n",
      "5723    0\n",
      "5724    0\n",
      "5725    0\n",
      "5726    0\n",
      "5727    0\n",
      "Name: spam, Length: 5728, dtype: int64\n"
     ]
    }
   ],
   "source": [
    "import pandas as p\n",
    "\n",
    "file_path = \"emails.csv\"\n",
    "emails = p.read_csv(file_path)\n",
    "print(emails['text'])\n",
    "print(emails['text'][0])\n",
    "print(emails['spam'])"
   ]
  },
  {
   "cell_type": "markdown",
   "metadata": {},
   "source": [
    "# Preprocesamiento y descarga de datos filtrados"
   ]
  },
  {
   "cell_type": "markdown",
   "metadata": {},
   "source": [
    "## Tokenizado, Lemming, eliminacion de stop words y de tokens que no son palabras"
   ]
  },
  {
   "cell_type": "code",
   "execution_count": 43,
   "metadata": {},
   "outputs": [
    {
     "name": "stderr",
     "output_type": "stream",
     "text": [
      "[nltk_data] Downloading package punkt to /home/nutria/nltk_data...\n",
      "[nltk_data]   Package punkt is already up-to-date!\n",
      "[nltk_data] Downloading package wordnet to /home/nutria/nltk_data...\n",
      "[nltk_data]   Package wordnet is already up-to-date!\n",
      "[nltk_data] Downloading package stopwords to /home/nutria/nltk_data...\n",
      "[nltk_data]   Package stopwords is already up-to-date!\n"
     ]
    },
    {
     "name": "stdout",
     "output_type": "stream",
     "text": [
      "Procesados: 0\n",
      "Procesados: 1000\n",
      "Procesados: 2000\n",
      "Procesados: 3000\n",
      "Procesados: 4000\n",
      "Procesados: 5000\n"
     ]
    }
   ],
   "source": [
    "import nltk\n",
    "from nltk.tokenize import word_tokenize\n",
    "from nltk.stem import WordNetLemmatizer\n",
    "from nltk.corpus import stopwords\n",
    "from nltk.stem import PorterStemmer\n",
    "\n",
    "\n",
    "nltk.download('punkt')\n",
    "nltk.download('wordnet')\n",
    "nltk.download('stopwords')\n",
    "\n",
    "\n",
    "lemmatizer = WordNetLemmatizer()\n",
    "stemmer = PorterStemmer()\n",
    "emails_filtrados = list()\n",
    "for i in range( len(emails['text']) ):\n",
    "    if (i %1000) == 0:\n",
    "        print(\"Procesados: \" + str(i))\n",
    "    #Tokenizado\n",
    "    tokens = word_tokenize(emails['text'][i])\n",
    "    #Lemming\n",
    "    lem= [lemmatizer.lemmatize(x,pos='v') for x in tokens]\n",
    "    #Stop words\n",
    "    stop = [x for x in lem if x not in stopwords.words('english')]\n",
    "    #Stemming\n",
    "    stem=[stemmer.stem(x) for x in stop]\n",
    "    #Remove non-words\n",
    "    alpha=[x for x in stem if x.isalpha()]\n",
    "    #Agrego el nuevo email filtrado a la lista\n",
    "    emails_filtrados.append( \" \".join(alpha) )"
   ]
  },
  {
   "cell_type": "markdown",
   "metadata": {},
   "source": [
    "Guardo los mails conseguidos hasta esta etapa de pre-procesamiento:"
   ]
  },
  {
   "cell_type": "code",
   "execution_count": 44,
   "metadata": {},
   "outputs": [],
   "source": [
    "import pickle\n",
    "\n",
    "with open('em_filt.pck', 'wb') as fp:\n",
    "    pickle.dump(emails_filtrados, fp)"
   ]
  },
  {
   "cell_type": "markdown",
   "metadata": {},
   "source": [
    "Cargo los datos guardados previamente:"
   ]
  },
  {
   "cell_type": "code",
   "execution_count": 48,
   "metadata": {},
   "outputs": [
    {
     "name": "stdout",
     "output_type": "stream",
     "text": [
      "subject wall street phenomenon reap reward small cap stock finder new develop expect move western sierra mine inc stock westernsierramin com western sierra mine compani move fast big news big busi afoot wsrm read find wsrm top pick week western sierra mine profitabi busi mode avoid highest cost associ mine explor essenti wester sierra oper mine sit previousiy expior find small argest mine compani yet sti produc handsom profit gioba mine industri boom wi continu foreseeabi futur due impact china drive demand commod price ong suppiy respons lead time news news news read find expect wsrm take week recent news compani phoenix busi wire june oo western sierra mine corp pink sheet wsrm news announc today board director approv author forward split issu outstand common tock al sharehoid record june compani state reason spiit ow addit investor particip long term goal object western phoenix busi wire june western sierra mine pink sheet wsrm news oretech inc pink sheet ort news announc today respect board director agre enter agreement develop silver plume pittsburg mine ocat coiorado comment propos transact presid western sierra mine michael chaffe say new aiignment oretech wil aliow compani util specif expertis maximum benefit oretech tri focu develop proprieti extract technoiogi western expand mine activ u start due dilig properti ook forward take propos back oretech end month phoenix busi wire june western sierra mine pink sheet wsrm news announc today sign letter intent asdi corp provid wsrm right deveiop asdi properti locat crescent vailey battl mountain nev stress enough signific news tock spiit oniy mean one thing good busi spiit date set june obviousiy time get repsect news sma compani would right rich properti speak volum manag near futur earn wouid fortun invoiv industri pioneer oretech noth short extraordinari fortuit event earn wsrm highli recommend symbol wsrm current price short term target price month target price news industri mine tock outperform p dow jone industri averag last three year profit mine compani doubl second year row return equiti increas nearli three fold past two year price waterhous cooper cali anoth bumper year global mine industri oo go say sustain upturn commod price catch investor attent creat dash mine tock add unpreced profit free cash flow buoyant industri inform read mine enter dragon price waterhous cooper locat pwcglobal com disclaim inform within emai contain forward look statement within mean section secur act section b secur exchang act statement express involv discuss respect predict expect belief pian project object goai assumpt futur event perform statement histor fact may forward ook statement forward look statement base expect estim project time statement make involv number risk uncertainti couid caus actual resuit event differ materialiy present anticip forward ook statement action may identifi use word project forese expect wiil anticip estim believ understand statement indic certain action may couid might occur mani micro cap tock today compani addit risk factor worth note factor inciud imit oper histori compani advanc cash relat parti sharehold unsecur basi one vendor reiat parti major tockhoid suppii nineti seven percent compani raw materi reiianc two custom fifti percent busi numer reiat parti transact need rais capit factor other fulli spell compani sec fii urg read file invest rocket stock report repres inform contain messag state ail materia fact omit materia fact necessari make statement therein misiead inform provid within email pertain invest stock secur must understand inform provid invest advic rocket stock report advis reader subscrib seek advic regist profession secur repres decid trade stock featur within email none materi within report shail constru kind invest advic solicit mani compani verg bankruptci ose al mone invest stock publish rocket stock report regist invest advisor subscrib shouid view inform herein egal tax account invest advic refer past perform compani specialiy select refer base favor perform compani wouid need perfect time achiev resuit exampi give assur happen rememb aiway past perform never indic futur result thorough due dilig effort inciud review compani fii shouid complet prior invest compiianc secur act section b rocket stock report disclos receipt twelv thousand doilar third parti gem inc offic director affiiiat sharehoid circul report gem inc posit stoc k wi seil time without notic awar inher confiict interest resuit compens due fact pay advertis conflict ail factua inform report gather pubiic sourc includ imit compani websit sec fii compani press reieas rocket sto ck report believ inform reiiabl make guarante accuraci compiet use materia within email constitut accept term\n"
     ]
    }
   ],
   "source": [
    "import pickle\n",
    "with open ('em_filt.pck', 'rb') as fp:\n",
    "    data = pickle.load(fp)\n",
    "print(data[13])"
   ]
  },
  {
   "cell_type": "code",
   "execution_count": 95,
   "metadata": {},
   "outputs": [],
   "source": [
    "from sklearn.feature_extraction.text import CountVectorizer\n",
    "\n",
    "count_vect = CountVectorizer(max_df=0.8,min_df=5)\n",
    "raw_data=count_vect.fit_transform(emails_filtrados) #Aprende el vocabulario y le asigna un código a cada palabra\n",
    "#count_vect.vocabulary_"
   ]
  },
  {
   "cell_type": "markdown",
   "metadata": {},
   "source": [
    "# Entrenamiento"
   ]
  },
  {
   "cell_type": "code",
   "execution_count": 96,
   "metadata": {},
   "outputs": [
    {
     "data": {
      "text/plain": [
       "MultinomialNB(alpha=1.0, class_prior=None, fit_prior=True)"
      ]
     },
     "execution_count": 96,
     "metadata": {},
     "output_type": "execute_result"
    }
   ],
   "source": [
    "from sklearn.naive_bayes import MultinomialNB\n",
    "\n",
    "training_len = int( 0.9*len(data) ) #Uso el 90% de los datos en el entrenamiento y 10% en la validacion\n",
    "X_train = raw_data[0:training_len]\n",
    "X_test = raw_data[training_len:]\n",
    "Y_train = emails.spam[0:training_len]\n",
    "Y_test = emails.spam[training_len:]\n",
    "\n",
    "clf = MultinomialNB()\n",
    "clf.fit(X_train.toarray(), Y_train)"
   ]
  },
  {
   "cell_type": "markdown",
   "metadata": {},
   "source": [
    "# Validacion"
   ]
  },
  {
   "cell_type": "code",
   "execution_count": 97,
   "metadata": {},
   "outputs": [
    {
     "name": "stdout",
     "output_type": "stream",
     "text": [
      "El porcentaje de emails clasificados correctamente es: 99.13%\n"
     ]
    }
   ],
   "source": [
    "import numpy as np\n",
    "\n",
    "porc=sum(np.array(clf.predict(X_test.toarray()))==np.array(Y_test))/len(Y_test)*100\n",
    "print(\"El porcentaje de emails clasificados correctamente es: {:.2f}%\".format(porc))\n",
    "\n"
   ]
  }
 ],
 "metadata": {
  "kernelspec": {
   "display_name": "Python 3",
   "language": "python",
   "name": "python3"
  },
  "language_info": {
   "codemirror_mode": {
    "name": "ipython",
    "version": 3
   },
   "file_extension": ".py",
   "mimetype": "text/x-python",
   "name": "python",
   "nbconvert_exporter": "python",
   "pygments_lexer": "ipython3",
   "version": "3.7.4"
  }
 },
 "nbformat": 4,
 "nbformat_minor": 4
}
